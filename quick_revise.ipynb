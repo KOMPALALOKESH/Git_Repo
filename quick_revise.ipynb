{
 "cells": [
  {
   "cell_type": "markdown",
   "id": "c70910d2",
   "metadata": {},
   "source": [
    "## longest Common Subsequence"
   ]
  },
  {
   "cell_type": "code",
   "execution_count": 1,
   "id": "066b42e4",
   "metadata": {},
   "outputs": [
    {
     "data": {
      "text/plain": [
       "3"
      ]
     },
     "execution_count": 1,
     "metadata": {},
     "output_type": "execute_result"
    }
   ],
   "source": [
    "def longestCommonSubsequence(s1, s2):\n",
    "    def LCS(s1,s2,i1,i2):\n",
    "        if i1 == len(s1) or i2 == len(s2):\n",
    "            return 0\n",
    "        if s1[i1] == s2[i2]:\n",
    "            return 1 + LCS(s1,s2,i1+1,i2+1)\n",
    "        else:\n",
    "            op1 = LCS(s1,s2,i1+1,i2)\n",
    "            op2 = LCS(s1,s2,i1,i2+1)\n",
    "            return max(op1,op2)\n",
    "        \n",
    "    return LCS(s1,s2,0,0)\n",
    "\n",
    "s1 = \"abcde\"\n",
    "s2 = \"ace\"\n",
    "longestCommonSubsequence(\"ylqpejqbalahwr\",\"yrkzavgdmdgtqpg\")"
   ]
  },
  {
   "cell_type": "markdown",
   "id": "684bda77",
   "metadata": {},
   "source": [
    "## 0/1 knapsack"
   ]
  },
  {
   "cell_type": "code",
   "execution_count": 2,
   "id": "0b2332c0",
   "metadata": {},
   "outputs": [
    {
     "data": {
      "text/plain": [
       "3"
      ]
     },
     "execution_count": 2,
     "metadata": {},
     "output_type": "execute_result"
    }
   ],
   "source": [
    "def knapsack(values,weights,capacity,n):\n",
    "    return knapsacksol(values,weights,capacity,0)\n",
    "\n",
    "def knapsacksol(values,weights,capacity,curr_idx):\n",
    "    if curr_idx >= len(values) or capacity <= 0:\n",
    "        return 0\n",
    "    else:\n",
    "        first = values[curr_idx] + knapsacksol(values,weights,capacity-weights[curr_idx],curr_idx+1)\n",
    "        second = knapsacksol(values,weights,capacity,curr_idx+1)\n",
    "        return max(first,second)\n",
    "\n",
    "values = [1,2,3]\n",
    "weights = [4,5,1]\n",
    "capacity = 3\n",
    "knapsack(values,weights,capacity,len(values)-1)"
   ]
  },
  {
   "cell_type": "markdown",
   "id": "7af1d19b",
   "metadata": {},
   "source": [
    "## split array to make coprime products"
   ]
  },
  {
   "cell_type": "code",
   "execution_count": 4,
   "id": "99a0ea81",
   "metadata": {},
   "outputs": [
    {
     "data": {
      "text/plain": [
       "2"
      ]
     },
     "execution_count": 4,
     "metadata": {},
     "output_type": "execute_result"
    }
   ],
   "source": [
    "from collections import Counter\n",
    "from math import sqrt\n",
    "class Solution:\n",
    "    def findValidSplit(self, nums) -> int:\n",
    "        def factor(num):\n",
    "            i = 2\n",
    "            ctr = Counter()\n",
    "            sqroot = sqrt(num)\n",
    "        \n",
    "            while num > 1 and i <= sqroot:\n",
    "                if num % i == 0:\n",
    "                    num //= i\n",
    "                    ctr[i] += 1\n",
    "                else:\n",
    "                    i += 1\n",
    "            if num > 1:\n",
    "                ctr[num] += 1\n",
    "            return ctr\n",
    "        \n",
    "        n = len(nums)\n",
    "        factorlist = Counter()\n",
    "        for i in range(n):\n",
    "            factorlist[i] = factor(nums[i])\n",
    "            \n",
    "        left,right = Counter(),Counter()\n",
    "        for i in range(n):\n",
    "            right += factorlist[i]\n",
    "    \n",
    "        overlap = 0\n",
    "        for i in range(n-1):\n",
    "            for j in factorlist[i]:\n",
    "                if not left[j]:\n",
    "                    overlap += 1\n",
    "                left[j] += factorlist[i][j]\n",
    "                if left[j] == right[j]:\n",
    "                    overlap -= 1\n",
    "                if overlap == 0:\n",
    "                    return i\n",
    "        return -1\n",
    "\n",
    "nums = [4,7,8,15,3,5]\n",
    "obj = Solution()\n",
    "obj.findValidSplit(nums)"
   ]
  },
  {
   "cell_type": "markdown",
   "id": "d6c2b51d",
   "metadata": {},
   "source": [
    "## generate valid paranthesis"
   ]
  },
  {
   "cell_type": "code",
   "execution_count": 13,
   "id": "3e2287e9",
   "metadata": {},
   "outputs": [
    {
     "data": {
      "text/plain": [
       "['((()))', '(()())', '(())()', '()(())', '()()()']"
      ]
     },
     "execution_count": 13,
     "metadata": {},
     "output_type": "execute_result"
    }
   ],
   "source": [
    "def generate(num):\n",
    "    def dfs(left,right,s):\n",
    "        \n",
    "        if len(s) == 2*n:\n",
    "            ans.append(s)\n",
    "            return \n",
    "        \n",
    "        if left < n:\n",
    "            dfs(left+1,right,s+'(')\n",
    "            \n",
    "        if right < left:\n",
    "            dfs(left,right+1,s+')')\n",
    "        \n",
    "    ans = []\n",
    "    dfs(0,0,'')\n",
    "    return ans\n",
    "\n",
    "n = 3\n",
    "generate(n)"
   ]
  },
  {
   "cell_type": "code",
   "execution_count": null,
   "id": "905bce06",
   "metadata": {},
   "outputs": [],
   "source": []
  }
 ],
 "metadata": {
  "kernelspec": {
   "display_name": "Python 3 (ipykernel)",
   "language": "python",
   "name": "python3"
  },
  "language_info": {
   "codemirror_mode": {
    "name": "ipython",
    "version": 3
   },
   "file_extension": ".py",
   "mimetype": "text/x-python",
   "name": "python",
   "nbconvert_exporter": "python",
   "pygments_lexer": "ipython3",
   "version": "3.10.5"
  }
 },
 "nbformat": 4,
 "nbformat_minor": 5
}
